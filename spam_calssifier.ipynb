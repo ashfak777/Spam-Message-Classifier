{
 "cells": [
  {
   "cell_type": "code",
   "execution_count": 14,
   "metadata": {},
   "outputs": [],
   "source": [
    "from nltk.stem import PorterStemmer\n",
    "from sklearn.feature_extraction.text import TfidfVectorizer\n",
    "\n",
    "from wordcloud import WordCloud\n",
    "import pandas as pd\n",
    "\n",
    "import matplotlib.pyplot as plt\n",
    "%matplotlib inline\n",
    "\n",
    "from sklearn.ensemble import RandomForestClassifier, GradientBoostingClassifier\n",
    "from sklearn.model_selection import train_test_split\n",
    "from sklearn.metrics import accuracy_score,confusion_matrix,classification_report\n",
    "from sklearn.svm import LinearSVC"
   ]
  },
  {
   "cell_type": "code",
   "execution_count": null,
   "metadata": {},
   "outputs": [
    {
     "name": "stdout",
     "output_type": "stream",
     "text": [
      "<class 'pandas.core.frame.DataFrame'>\n",
      "RangeIndex: 5576 entries, 0 to 5575\n",
      "Data columns (total 3 columns):\n",
      "v1       5576 non-null object\n",
      "v2       5576 non-null object\n",
      "Count    5576 non-null int64\n",
      "dtypes: int64(1), object(2)\n",
      "memory usage: 130.8+ KB\n",
      "Free entry in 2 a wkly comp to win FA Cup final tkts 21st May 2005. Text FA to 87121 to receive entry question(std txt rate)T&C's apply 08452810075over18's\n",
      "U dun say so early hor... U c already then say...\n"
     ]
    },
    {
     "data": {
      "image/png": "[encoded data removed]",
      "text/plain": [
       "<Figure size 432x288 with 1 Axes>"
      ]
     },
     "metadata": {
      "needs_background": "light"
     },
     "output_type": "display_data"
    },
    {
     "data": {
      "image/png": "[encoded data removed]",
      "text/plain": [
       "<Figure size 432x288 with 1 Axes>"
      ]
     },
     "metadata": {
      "needs_background": "light"
     },
     "output_type": "display_data"
    },
    {
     "name": "stdout",
     "output_type": "stream",
     "text": [
      "<class 'scipy.sparse.csr.csr_matrix'>\n",
      "[[1449    1]\n",
      " [  63  160]]\n",
      "Accuracy : 0.96175 \n",
      "\n",
      "\n",
      "              precision    recall  f1-score   support\n",
      "\n",
      "           0       0.96      1.00      0.98      1450\n",
      "           1       0.99      0.72      0.83       223\n",
      "\n",
      "    accuracy                           0.96      1673\n",
      "   macro avg       0.98      0.86      0.91      1673\n",
      "weighted avg       0.96      0.96      0.96      1673\n",
      "\n",
      "Accuracy: \n",
      " 0.9903181189488244\n"
     ]
    }
   ],
   "source": [
    "df = pd.read_csv(r\"C:/Users/DELL/Desktop/spam doc/ai project/spam classifier/dataset/spam one.csv\",encoding='latin-1')\n",
    "\n",
    "df.head()\n",
    "\n",
    "df.tail()\n",
    "\n",
    "df = df[df.columns.drop(list(df.filter(regex='Unnamed')))]\n",
    "df.head()\n",
    "\n",
    "import numpy as np\n",
    "df['Count']=0\n",
    "for i in np.arange(0,len(df.v2)):\n",
    "    df.loc[i,'Count'] = len(df.loc[i,'v2'])\n",
    "\n",
    "df.head()\n",
    "\n",
    "df.tail()\n",
    "\n",
    "df['v1'].value_counts()\n",
    "\n",
    "df.info()\n",
    "\n",
    "corpus = []\n",
    "ps = PorterStemmer()\n",
    "\n",
    "print (df['v2'][2])\n",
    "print (df['v2'][3])\n",
    "\n",
    "df.groupby('v1').describe()\n",
    "\n",
    "df.rename(columns={'v1':'label','v2':'sms'},inplace=True)\n",
    "\n",
    "df.label.value_counts()\n",
    "\n",
    "df.sms.value_counts()\n",
    "\n",
    "df.groupby('sms').describe()\n",
    "\n",
    "df.groupby('label').describe()\n",
    "\n",
    "df.rename(columns={'v1':'label','v2':'sms'},inplace=True)\n",
    "\n",
    "df.label.value_counts()\n",
    "\n",
    "df['sms length'] = df['sms'].apply(len)\n",
    "df.head()\n",
    "\n",
    "plt.hist(df[df['label']=='spam']['sms length'],color='blue',bins=50)\n",
    "plt.title('Spam Message Length',fontsize=20)\n",
    "plt.xlabel('Message Length')\n",
    "plt.ylabel('Count')\n",
    "plt.show()\n",
    "\n",
    "plt.hist(df[df['label']=='ham']['sms length'],color='yellow',bins=50,range=(0,300))\n",
    "plt.title('Ham Message Length',fontsize=20)\n",
    "plt.xlabel('Message Length')\n",
    "plt.ylabel('Count')\n",
    "plt.show()\n",
    "\n",
    "import string\n",
    "ps = PorterStemmer()\n",
    "\n",
    "def process_sms(sms):\n",
    "    \n",
    "    sms = sms.translate(str.maketrans('','',string.punctuation)) \n",
    "    sms = sms.split()\n",
    "    sms = [ps.stem(word) for word in sms if len(word) > 2]\n",
    "    sms = ' '.join(sms)\n",
    "    return sms\n",
    "\n",
    "df['sms'] = df.sms.apply(process_sms)\n",
    "\n",
    "df['label'] = df.label.map({'ham':0, 'spam':1})\n",
    "df.head()\n",
    "\n",
    "df = df[df.columns.drop(list(df.filter(regex='Unnamed')))]\n",
    "df.head()\n",
    "\n",
    "tfidf = TfidfVectorizer(encoding='latin-1',stop_words='english',analyzer='word',lowercase=True,smooth_idf=True)\n",
    "\n",
    "X_train,X_test,y_train,y_test = train_test_split(df['sms'],df['label'],test_size = 0.30, random_state =7)\n",
    "\n",
    "features_train = tfidf.fit_transform(X_train)\n",
    "features_test = tfidf.transform(X_test)\n",
    "print(type(features_train))\n",
    "pd.DataFrame(features_train.todense(),columns=tfidf.get_feature_names())\n",
    "\n",
    "model = RandomForestClassifier(n_estimators=10, max_depth=None, min_samples_split=2, random_state=None)\n",
    "model.fit(features_train,y_train)\n",
    "\n",
    "y_pred_dt = model.predict(features_test)\n",
    "\n",
    "cm = confusion_matrix(y_test, y_pred_dt)\n",
    "\n",
    "print(cm)\n",
    "\n",
    "print (\"Accuracy : %0.5f \\n\\n\" % accuracy_score(y_test, model.predict(features_test)))\n",
    "print (classification_report(y_test, model.predict(features_test)))\n",
    "\n",
    "\n",
    "\n",
    "exec(open('C:/Users/DELL/Desktop/spam doc/ai project/spam classifier/spamRF.py').read())"
   ]
  },
  {
   "cell_type": "code",
   "execution_count": null,
   "metadata": {},
   "outputs": [],
   "source": []
  }
 ],
 "metadata": {
  "kernelspec": {
   "display_name": "Python 3",
   "language": "python",
   "name": "python3"
  },
  "language_info": {
   "codemirror_mode": {
    "name": "ipython",
    "version": 3
   },
   "file_extension": ".py",
   "mimetype": "text/x-python",
   "name": "python",
   "nbconvert_exporter": "python",
   "pygments_lexer": "ipython3",
   "version": "3.7.4"
  }
 },
 "nbformat": 4,
 "nbformat_minor": 2
}
